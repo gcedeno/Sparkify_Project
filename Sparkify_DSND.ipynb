{
 "cells": [
  {
   "cell_type": "markdown",
   "metadata": {},
   "source": [
    "<br><br><center><h1 style=\"font-size:2em;color:#2467C0\">Project: Sparkify</h1></center>\n",
    "<br>\n",
    "<table>\n",
    "<col width=\"550\">\n",
    "<col width=\"450\">\n",
    "<tr>\n",
    "<td><img src=\"ApacheSpark.png\" align=\"middle\" style=\"width:400px;height:200px;\"/></td>\n",
    "<td>\n",
    "This Notebook contains the capstone project of the Data Science Nanodegree offered by Udacity. The goal of the project is to manipulate a large and realistic dataset using Spark and build a machine learning classifier for predicting churn for the imaginary music streaming application Sparkify. For all the analysis and model training a Spark cluster was deployed on the cloud using IBM Watson Studio. This submission corresponds to the whole project solution from data gathering and cleaning, through exploratory analysis up to training a Machine Learning Classifier. All the required tasks to accomplish the project goals, code, analysis and conclusions are part of this final report. \n",
    "<br>\n",
    "<br>\n",
    "<br>\n",
    "A medium size dataset provided by Udacity was uploaded to the IBM Cloud platform and used for the analysis.\n",
    "<br>\n",
    "<br>\n",
    "<h1 style=\"font-size:1em;color:#2467C0\">This Notebook was created by: Gustavo Cedeño</h1>\n",
    "\n",
    "</tr>\n",
    "</table>"
   ]
  },
  {
   "cell_type": "markdown",
   "metadata": {},
   "source": [
    "## Table of Contents\n",
    "<ul>\n",
    "    \n",
    "<li><a href='#intro'>Introduction</a></li>\n",
    "    <ul>\n",
    "      <li><a href='#definition'>Problem or Idea Definition</a></li>\n",
    "</ul>\n",
    "    \n",
    "    \n",
    "<li><a href='#intro'>Project Description</a></li>\n",
    "    <ul>\n",
    "      <li><a href='#datasource'>DataSource</a></li>\n",
    "      <li><a href='#requirements'> Required Libraries </a></li>\n",
    "</ul>\n",
    "\n",
    "<li><a href='#wrangling'>Data Wrangling</a></li>\n",
    " \n",
    "\n",
    "<li><a href='#EDA'>Exploratory Data Analysis</a></li>\n",
    "  \n",
    "<li><a href='#method'>Methodology: Model and Predictive Data Analysis</a></li>\n",
    "    <ul>\n",
    "      <li><a href='#model'>Model Selection</a></li>\n",
    "      <li><a href='#implementation'>Model Implementation</a></li>\n",
    "      <li><a href='#evaluation'>Evaluating Model Performance</a></li>\n",
    "  </ul>\n",
    "   \n",
    "<li><a href='#results'>Results</a></li>\n",
    "    <ul>\n",
    "      <li><a href='#discussion'>Discussion</a></li>\n",
    "      <li><a href='#conclusion'>Conclusion</a></li>\n",
    "    \n",
    "</ul>\n",
    "<li><a href='#reference'>References</a></li> "
   ]
  },
  {
   "cell_type": "markdown",
   "metadata": {},
   "source": [
    "<a id='intro'></a>\n",
    "# Introduction\n",
    "\n",
    ">Sparkify is an imaginary music streaming application. The idea for this project is to manipulate a dataset containing user's information using Spark and to engineer relevant features and learn how to use Spark MLlib to build machine learning models for predicting churn.  \n",
    "\n",
    ">\n",
    "<a id='definition'></a>\n",
    "## Problem or Idea Definition\n",
    "\n",
    "> Predicting churn rates is a challenging and common problem that data scientists and analysts regularly encounter in any customer-facing business. Additionally, the ability to efficiently manipulate large datasets with Spark is one of the highest-demand skills in the field of data.\n",
    "\n",
    "> This project allows to develop two essential data analytics skills, namely:\n",
    "* Load large datasets into Spark and manipulate them using Spark SQL and Spark Dataframes\n",
    "* Use the machine learning APIs within Spark ML to build and tune models"
   ]
  },
  {
   "cell_type": "markdown",
   "metadata": {},
   "source": [
    "<a id='projectdetails'></a>\n",
    "# Project Details\n",
    ">For this project, I decided to deploy a Spark cluster on the cloud using IBM Watson Studio. A medium sized dataset provided by Udacity was used for the analysis. \n",
    "\n",
    ">Main tasks in this project are as follows:\n",
    ">1. Gathering data\n",
    ">2. Assessing and cleaning data\n",
    ">3. Exploratory Data Analysis\n",
    ">4. Engineering features.\n",
    ">5. Trainning and Tuning ML Classifiers.\n",
    ">6. Results analysis."
   ]
  },
  {
   "cell_type": "markdown",
   "metadata": {},
   "source": [
    "<a id='datasource'></a>\n",
    "## Data Source\n",
    ">The dataset \"medium_sparkify_event_data.json\" provided by Udacity was used for the analysis. \n",
    "\n",
    "## Loading the data on Watson Studio\n",
    "> To run the analysis on Watson Studio, first we need to upload the data to IBM Cloud, then select \"insert to code\", follow by \"Insert Spark DataFrame\" to generate a code that reads in the data into your Watson Studio notebook. Once done that, you're all set to start building your model on IBM Cloud!    "
   ]
  },
  {
   "cell_type": "code",
   "execution_count": 1,
   "metadata": {},
   "outputs": [
    {
     "name": "stdout",
     "output_type": "stream",
     "text": [
      "Waiting for a Spark session to start...\n",
      "Spark Initialization Done! ApplicationId = app-20191012135724-0000\n",
      "KERNEL_ID = 962662db-e145-473a-81b0-60d2301133e3\n",
      "+-----------------+---------+---------+------+-------------+--------+---------+-----+--------------------+------+--------+-------------+---------+------------------+------+-------------+--------------------+------+\n",
      "|           artist|     auth|firstName|gender|itemInSession|lastName|   length|level|            location|method|    page| registration|sessionId|              song|status|           ts|           userAgent|userId|\n",
      "+-----------------+---------+---------+------+-------------+--------+---------+-----+--------------------+------+--------+-------------+---------+------------------+------+-------------+--------------------+------+\n",
      "|    Martin Orford|Logged In|   Joseph|     M|           20| Morales|597.55057| free|  Corpus Christi, TX|   PUT|NextSong|1532063507000|      292|     Grand Designs|   200|1538352011000|\"Mozilla/5.0 (Mac...|   293|\n",
      "|John Brown's Body|Logged In|   Sawyer|     M|           74|  Larson|380.21179| free|Houston-The Woodl...|   PUT|NextSong|1538069638000|       97|             Bulls|   200|1538352025000|\"Mozilla/5.0 (Mac...|    98|\n",
      "|          Afroman|Logged In| Maverick|     M|          184|Santiago|202.37016| paid|Orlando-Kissimmee...|   PUT|NextSong|1535953455000|      178|Because I Got High|   200|1538352118000|\"Mozilla/5.0 (Mac...|   179|\n",
      "|             null|Logged In| Maverick|     M|          185|Santiago|     null| paid|Orlando-Kissimmee...|   PUT|  Logout|1535953455000|      178|              null|   307|1538352119000|\"Mozilla/5.0 (Mac...|   179|\n",
      "|       Lily Allen|Logged In|   Gianna|     F|           22|  Campos|194.53342| paid|          Mobile, AL|   PUT|NextSong|1535931018000|      245|Smile (Radio Edit)|   200|1538352124000|Mozilla/5.0 (Wind...|   246|\n",
      "+-----------------+---------+---------+------+-------------+--------+---------+-----+--------------------+------+--------+-------------+---------+------------------+------+-------------+--------------------+------+\n",
      "only showing top 5 rows\n",
      "\n"
     ]
    }
   ],
   "source": [
    "\n",
    "import ibmos2spark\n",
    "# @hidden_cell\n",
    "credentials = {\n",
    "    'endpoint': 'https://s3-api.us-geo.objectstorage.service.networklayer.com',\n",
    "    'service_id': 'iam-ServiceId-076a86f1-5ec1-4fba-9278-5d077471f129',\n",
    "    'iam_service_endpoint': 'https://iam.ng.bluemix.net/oidc/token',\n",
    "    'api_key': '3FnNIMzjrE3g_nuiJPdEXilu4foLRsY8UCwZ18dhqbL_'\n",
    "}\n",
    "\n",
    "configuration_name = 'os_1b1bbe777b774fb798ec063f4e838f0b_configs'\n",
    "cos = ibmos2spark.CloudObjectStorage(sc, credentials, configuration_name, 'bluemix_cos')\n",
    "\n",
    "from pyspark.sql import SparkSession\n",
    "spark = SparkSession.builder.getOrCreate()\n",
    "# Since JSON data can be semi-structured and contain additional metadata, it is possible that you might face issues with the DataFrame layout.\n",
    "# Please read the documentation of 'SparkSession.read()' to learn more about the possibilities to adjust the data loading.\n",
    "# PySpark documentation: http://spark.apache.org/docs/2.0.2/api/python/pyspark.sql.html#pyspark.sql.DataFrameReader.json\n",
    "\n",
    "# df_data_1 = spark.read.json(cos.url('medium-sparkify-event-data.json', 'sparkify-donotdelete-pr-jzqnqepywac0wd'))\n",
    "# df_data_1.take(5)\n",
    "df = spark.read.json(cos.url('medium-sparkify-event-data.json', 'sparkify-donotdelete-pr-jzqnqepywac0wd'))\n",
    "df.show(5)"
   ]
  },
  {
   "cell_type": "markdown",
   "metadata": {},
   "source": [
    "<a id='requirements'></a>\n",
    "## System and Libraries "
   ]
  },
  {
   "cell_type": "code",
   "execution_count": 2,
   "metadata": {},
   "outputs": [],
   "source": [
    "# import libraries\n",
    "from pyspark.sql.functions import avg, substring, col, when, desc, min, max, sum, \\\n",
    "split, udf, count, countDistinct, rand, struct, isnan, isnull, from_unixtime, dayofmonth, month, datediff, to_date, lit, current_date\n",
    "from pyspark.sql.types import IntegerType, ArrayType, FloatType, DoubleType, Row, DateType\n",
    "from pyspark.ml.linalg import DenseVector, SparseVector\n",
    "\n",
    "from pyspark.ml import Pipeline\n",
    "from pyspark.ml.classification import LogisticRegression, RandomForestClassifier, GBTClassifier\n",
    "from pyspark.ml.evaluation import MulticlassClassificationEvaluator\n",
    "from pyspark.ml.feature import CountVectorizer, IDF, Normalizer, PCA, RegexTokenizer, StandardScaler, StopWordsRemover, StringIndexer, VectorAssembler\n",
    "from pyspark.ml.tuning import CrossValidator, ParamGridBuilder\n",
    "\n",
    "from pyspark.sql.functions import sum as Fsum\n",
    "from pyspark.sql import Window\n",
    "import pandas as pd\n",
    "import matplotlib.pyplot as plt\n",
    "import seaborn as sns\n",
    "%matplotlib inline\n",
    "import datetime\n",
    "import pickle"
   ]
  },
  {
   "cell_type": "markdown",
   "metadata": {},
   "source": [
    "<a id='wrangling'></a>\n",
    "# Data Wrangling\n",
    ">>Data wrangling, which consists of the following tasks:\n",
    ">1. Assessing data\n",
    ">2. Cleaning data\n",
    ">3. Transforming data"
   ]
  },
  {
   "cell_type": "code",
   "execution_count": 3,
   "metadata": {},
   "outputs": [
    {
     "name": "stdout",
     "output_type": "stream",
     "text": [
      "root\n",
      " |-- artist: string (nullable = true)\n",
      " |-- auth: string (nullable = true)\n",
      " |-- firstName: string (nullable = true)\n",
      " |-- gender: string (nullable = true)\n",
      " |-- itemInSession: long (nullable = true)\n",
      " |-- lastName: string (nullable = true)\n",
      " |-- length: double (nullable = true)\n",
      " |-- level: string (nullable = true)\n",
      " |-- location: string (nullable = true)\n",
      " |-- method: string (nullable = true)\n",
      " |-- page: string (nullable = true)\n",
      " |-- registration: long (nullable = true)\n",
      " |-- sessionId: long (nullable = true)\n",
      " |-- song: string (nullable = true)\n",
      " |-- status: long (nullable = true)\n",
      " |-- ts: long (nullable = true)\n",
      " |-- userAgent: string (nullable = true)\n",
      " |-- userId: string (nullable = true)\n",
      "\n"
     ]
    }
   ],
   "source": [
    "# Let's take a look at the dataset schema\n",
    "df.printSchema()"
   ]
  },
  {
   "cell_type": "markdown",
   "metadata": {},
   "source": [
    "Schema information\n",
    "\n",
    "* artist: Artist name (e.g. 'Showaddywaddy')\n",
    "* auth: User authentication status (e.g. 'Logged In')\n",
    "* firstName: User first name (e.g. 'Kenneth')\n",
    "* gender: Gender (e.g. F or M)\n",
    "* itemInSession: Item count in a session (e.g. 112)\n",
    "* lastName: User last name (e.g. 'Matthews')\n",
    "* length: Length of song (e.g. 223.60771)\n",
    "* level: User plan (e.g. paid)\n",
    "* location: User's location (e.g. 'Charlotte-Concord-Gastonia, NC-SC')\n",
    "* method: HTTP method (e.g. PUT)\n",
    "* page: Page name (e.g. NextSong)\n",
    "* registration: Registration timestamp (unix timestamp) (e.g. 1538173362000)\n",
    "* sessionId: Session ID (e.g. 29)\n",
    "* song: Song (e.g. 'Christmas Tears Will Fall')\n",
    "* status: HTTP status (e.g. 200)\n",
    "* ts: Event timestamp(unix timestamp) (e.g. 1538352676000)\n",
    "* userAgent: User's browswer agent (e.g. '\"Mozilla/5.0 (Windows NT 6.1) AppleWebKit/537.36 (KHTML, like Gecko) Chrome/36.0.1985.125 Safari/537.36\"') \n",
    "* userId: User ID (e.g. '1046')"
   ]
  },
  {
   "cell_type": "code",
   "execution_count": 4,
   "metadata": {},
   "outputs": [
    {
     "data": {
      "text/html": [
       "<div>\n",
       "<style scoped>\n",
       "    .dataframe tbody tr th:only-of-type {\n",
       "        vertical-align: middle;\n",
       "    }\n",
       "\n",
       "    .dataframe tbody tr th {\n",
       "        vertical-align: top;\n",
       "    }\n",
       "\n",
       "    .dataframe thead th {\n",
       "        text-align: right;\n",
       "    }\n",
       "</style>\n",
       "<table border=\"1\" class=\"dataframe\">\n",
       "  <thead>\n",
       "    <tr style=\"text-align: right;\">\n",
       "      <th></th>\n",
       "      <th>artist</th>\n",
       "      <th>auth</th>\n",
       "      <th>firstName</th>\n",
       "      <th>gender</th>\n",
       "      <th>itemInSession</th>\n",
       "      <th>lastName</th>\n",
       "      <th>length</th>\n",
       "      <th>level</th>\n",
       "      <th>location</th>\n",
       "      <th>method</th>\n",
       "      <th>page</th>\n",
       "      <th>registration</th>\n",
       "      <th>sessionId</th>\n",
       "      <th>song</th>\n",
       "      <th>status</th>\n",
       "      <th>ts</th>\n",
       "      <th>userAgent</th>\n",
       "      <th>userId</th>\n",
       "    </tr>\n",
       "  </thead>\n",
       "  <tbody>\n",
       "    <tr>\n",
       "      <th>0</th>\n",
       "      <td>Martin Orford</td>\n",
       "      <td>Logged In</td>\n",
       "      <td>Joseph</td>\n",
       "      <td>M</td>\n",
       "      <td>20</td>\n",
       "      <td>Morales</td>\n",
       "      <td>597.55057</td>\n",
       "      <td>free</td>\n",
       "      <td>Corpus Christi, TX</td>\n",
       "      <td>PUT</td>\n",
       "      <td>NextSong</td>\n",
       "      <td>1.532064e+12</td>\n",
       "      <td>292</td>\n",
       "      <td>Grand Designs</td>\n",
       "      <td>200</td>\n",
       "      <td>1538352011000</td>\n",
       "      <td>\"Mozilla/5.0 (Macintosh; Intel Mac OS X 10_9_4...</td>\n",
       "      <td>293</td>\n",
       "    </tr>\n",
       "    <tr>\n",
       "      <th>1</th>\n",
       "      <td>John Brown's Body</td>\n",
       "      <td>Logged In</td>\n",
       "      <td>Sawyer</td>\n",
       "      <td>M</td>\n",
       "      <td>74</td>\n",
       "      <td>Larson</td>\n",
       "      <td>380.21179</td>\n",
       "      <td>free</td>\n",
       "      <td>Houston-The Woodlands-Sugar Land, TX</td>\n",
       "      <td>PUT</td>\n",
       "      <td>NextSong</td>\n",
       "      <td>1.538070e+12</td>\n",
       "      <td>97</td>\n",
       "      <td>Bulls</td>\n",
       "      <td>200</td>\n",
       "      <td>1538352025000</td>\n",
       "      <td>\"Mozilla/5.0 (Macintosh; Intel Mac OS X 10_9_4...</td>\n",
       "      <td>98</td>\n",
       "    </tr>\n",
       "    <tr>\n",
       "      <th>2</th>\n",
       "      <td>Afroman</td>\n",
       "      <td>Logged In</td>\n",
       "      <td>Maverick</td>\n",
       "      <td>M</td>\n",
       "      <td>184</td>\n",
       "      <td>Santiago</td>\n",
       "      <td>202.37016</td>\n",
       "      <td>paid</td>\n",
       "      <td>Orlando-Kissimmee-Sanford, FL</td>\n",
       "      <td>PUT</td>\n",
       "      <td>NextSong</td>\n",
       "      <td>1.535953e+12</td>\n",
       "      <td>178</td>\n",
       "      <td>Because I Got High</td>\n",
       "      <td>200</td>\n",
       "      <td>1538352118000</td>\n",
       "      <td>\"Mozilla/5.0 (Macintosh; Intel Mac OS X 10_9_4...</td>\n",
       "      <td>179</td>\n",
       "    </tr>\n",
       "    <tr>\n",
       "      <th>3</th>\n",
       "      <td>None</td>\n",
       "      <td>Logged In</td>\n",
       "      <td>Maverick</td>\n",
       "      <td>M</td>\n",
       "      <td>185</td>\n",
       "      <td>Santiago</td>\n",
       "      <td>NaN</td>\n",
       "      <td>paid</td>\n",
       "      <td>Orlando-Kissimmee-Sanford, FL</td>\n",
       "      <td>PUT</td>\n",
       "      <td>Logout</td>\n",
       "      <td>1.535953e+12</td>\n",
       "      <td>178</td>\n",
       "      <td>None</td>\n",
       "      <td>307</td>\n",
       "      <td>1538352119000</td>\n",
       "      <td>\"Mozilla/5.0 (Macintosh; Intel Mac OS X 10_9_4...</td>\n",
       "      <td>179</td>\n",
       "    </tr>\n",
       "    <tr>\n",
       "      <th>4</th>\n",
       "      <td>Lily Allen</td>\n",
       "      <td>Logged In</td>\n",
       "      <td>Gianna</td>\n",
       "      <td>F</td>\n",
       "      <td>22</td>\n",
       "      <td>Campos</td>\n",
       "      <td>194.53342</td>\n",
       "      <td>paid</td>\n",
       "      <td>Mobile, AL</td>\n",
       "      <td>PUT</td>\n",
       "      <td>NextSong</td>\n",
       "      <td>1.535931e+12</td>\n",
       "      <td>245</td>\n",
       "      <td>Smile (Radio Edit)</td>\n",
       "      <td>200</td>\n",
       "      <td>1538352124000</td>\n",
       "      <td>Mozilla/5.0 (Windows NT 6.1; WOW64; rv:31.0) G...</td>\n",
       "      <td>246</td>\n",
       "    </tr>\n",
       "  </tbody>\n",
       "</table>\n",
       "</div>"
      ],
      "text/plain": [
       "              artist       auth firstName gender  itemInSession  lastName  \\\n",
       "0      Martin Orford  Logged In    Joseph      M             20   Morales   \n",
       "1  John Brown's Body  Logged In    Sawyer      M             74    Larson   \n",
       "2            Afroman  Logged In  Maverick      M            184  Santiago   \n",
       "3               None  Logged In  Maverick      M            185  Santiago   \n",
       "4         Lily Allen  Logged In    Gianna      F             22    Campos   \n",
       "\n",
       "      length level                              location method      page  \\\n",
       "0  597.55057  free                    Corpus Christi, TX    PUT  NextSong   \n",
       "1  380.21179  free  Houston-The Woodlands-Sugar Land, TX    PUT  NextSong   \n",
       "2  202.37016  paid         Orlando-Kissimmee-Sanford, FL    PUT  NextSong   \n",
       "3        NaN  paid         Orlando-Kissimmee-Sanford, FL    PUT    Logout   \n",
       "4  194.53342  paid                            Mobile, AL    PUT  NextSong   \n",
       "\n",
       "   registration  sessionId                song  status             ts  \\\n",
       "0  1.532064e+12        292       Grand Designs     200  1538352011000   \n",
       "1  1.538070e+12         97               Bulls     200  1538352025000   \n",
       "2  1.535953e+12        178  Because I Got High     200  1538352118000   \n",
       "3  1.535953e+12        178                None     307  1538352119000   \n",
       "4  1.535931e+12        245  Smile (Radio Edit)     200  1538352124000   \n",
       "\n",
       "                                           userAgent userId  \n",
       "0  \"Mozilla/5.0 (Macintosh; Intel Mac OS X 10_9_4...    293  \n",
       "1  \"Mozilla/5.0 (Macintosh; Intel Mac OS X 10_9_4...     98  \n",
       "2  \"Mozilla/5.0 (Macintosh; Intel Mac OS X 10_9_4...    179  \n",
       "3  \"Mozilla/5.0 (Macintosh; Intel Mac OS X 10_9_4...    179  \n",
       "4  Mozilla/5.0 (Windows NT 6.1; WOW64; rv:31.0) G...    246  "
      ]
     },
     "execution_count": 4,
     "metadata": {},
     "output_type": "execute_result"
    }
   ],
   "source": [
    "# Converting to pandas dataframe to explore features\n",
    "dfp = df.toPandas()\n",
    "dfp.head()"
   ]
  },
  {
   "cell_type": "code",
   "execution_count": 5,
   "metadata": {},
   "outputs": [
    {
     "name": "stdout",
     "output_type": "stream",
     "text": [
      "<class 'pandas.core.frame.DataFrame'>\n",
      "RangeIndex: 543705 entries, 0 to 543704\n",
      "Data columns (total 18 columns):\n",
      "artist           432877 non-null object\n",
      "auth             543705 non-null object\n",
      "firstName        528005 non-null object\n",
      "gender           528005 non-null object\n",
      "itemInSession    543705 non-null int64\n",
      "lastName         528005 non-null object\n",
      "length           432877 non-null float64\n",
      "level            543705 non-null object\n",
      "location         528005 non-null object\n",
      "method           543705 non-null object\n",
      "page             543705 non-null object\n",
      "registration     528005 non-null float64\n",
      "sessionId        543705 non-null int64\n",
      "song             432877 non-null object\n",
      "status           543705 non-null int64\n",
      "ts               543705 non-null int64\n",
      "userAgent        528005 non-null object\n",
      "userId           543705 non-null object\n",
      "dtypes: float64(2), int64(4), object(12)\n",
      "memory usage: 74.7+ MB\n"
     ]
    }
   ],
   "source": [
    "# Checking general dataset details\n",
    "dfp.info()"
   ]
  },
  {
   "cell_type": "code",
   "execution_count": 6,
   "metadata": {},
   "outputs": [],
   "source": [
    "# Creating a view, to use SQL syntax \n",
    "df.createOrReplaceTempView('logs')"
   ]
  },
  {
   "cell_type": "code",
   "execution_count": 7,
   "metadata": {},
   "outputs": [
    {
     "name": "stdout",
     "output_type": "stream",
     "text": [
      "+------+----+---------+------+-------------+--------+------+-----+--------+------+----+------------+---------+------+------+---+---------+------+\n",
      "|artist|auth|firstName|gender|itemInSession|lastName|length|level|location|method|page|registration|sessionId|  song|status| ts|userAgent|userId|\n",
      "+------+----+---------+------+-------------+--------+------+-----+--------+------+----+------------+---------+------+------+---+---------+------+\n",
      "|110828|   0|    15700| 15700|            0|   15700|110828|    0|   15700|     0|   0|       15700|        0|110828|     0|  0|    15700|     0|\n",
      "+------+----+---------+------+-------------+--------+------+-----+--------+------+----+------------+---------+------+------+---+---------+------+\n",
      "\n"
     ]
    }
   ],
   "source": [
    "# Finding potential null values in critical columns\n",
    "df.select([count(when(isnull(c), c)).alias(c) for c in df.columns]).show()"
   ]
  },
  {
   "cell_type": "code",
   "execution_count": 8,
   "metadata": {},
   "outputs": [
    {
     "name": "stdout",
     "output_type": "stream",
     "text": [
      "+------+----------+---------+------+-------------+--------+------+-----+--------+------+-----+------------+---------+----+------+-------------+---------+------+\n",
      "|artist|      auth|firstName|gender|itemInSession|lastName|length|level|location|method| page|registration|sessionId|song|status|           ts|userAgent|userId|\n",
      "+------+----------+---------+------+-------------+--------+------+-----+--------+------+-----+------------+---------+----+------+-------------+---------+------+\n",
      "|  null|Logged Out|     null|  null|          186|    null|  null| paid|    null|   GET| Home|        null|      178|null|   200|1538352148000|     null|      |\n",
      "|  null|Logged Out|     null|  null|          187|    null|  null| paid|    null|   GET| Home|        null|      178|null|   200|1538352151000|     null|      |\n",
      "|  null|Logged Out|     null|  null|          188|    null|  null| paid|    null|   GET| Home|        null|      178|null|   200|1538352168000|     null|      |\n",
      "|  null|Logged Out|     null|  null|          189|    null|  null| paid|    null|   PUT|Login|        null|      178|null|   307|1538352169000|     null|      |\n",
      "|  null|Logged Out|     null|  null|          114|    null|  null| free|    null|   GET| Home|        null|      442|null|   200|1538353292000|     null|      |\n",
      "|  null|Logged Out|     null|  null|           34|    null|  null| free|    null|   GET| Home|        null|      292|null|   200|1538355024000|     null|      |\n",
      "|  null|Logged Out|     null|  null|           35|    null|  null| free|    null|   GET| Help|        null|      292|null|   200|1538355098000|     null|      |\n",
      "|  null|Logged Out|     null|  null|           36|    null|  null| free|    null|   GET| Home|        null|      292|null|   200|1538355178000|     null|      |\n",
      "|  null|Logged Out|     null|  null|           37|    null|  null| free|    null|   GET|About|        null|      292|null|   200|1538355186000|     null|      |\n",
      "|  null|Logged Out|     null|  null|           38|    null|  null| free|    null|   PUT|Login|        null|      292|null|   307|1538355187000|     null|      |\n",
      "+------+----------+---------+------+-------------+--------+------+-----+--------+------+-----+------------+---------+----+------+-------------+---------+------+\n",
      "only showing top 10 rows\n",
      "\n"
     ]
    }
   ],
   "source": [
    "# Exploring missing values in firstName column\n",
    "df.where(col('firstName').isNull()).show(10)"
   ]
  },
  {
   "cell_type": "code",
   "execution_count": 9,
   "metadata": {},
   "outputs": [
    {
     "name": "stdout",
     "output_type": "stream",
     "text": [
      "+------+----------+---------+------+-------------+--------+------+-----+--------------------+------+---------------+-------------+---------+----+------+-------------+--------------------+------+\n",
      "|artist|      auth|firstName|gender|itemInSession|lastName|length|level|            location|method|           page| registration|sessionId|song|status|           ts|           userAgent|userId|\n",
      "+------+----------+---------+------+-------------+--------+------+-----+--------------------+------+---------------+-------------+---------+----+------+-------------+--------------------+------+\n",
      "|  null| Logged In| Maverick|     M|          185|Santiago|  null| paid|Orlando-Kissimmee...|   PUT|         Logout|1535953455000|      178|null|   307|1538352119000|\"Mozilla/5.0 (Mac...|   179|\n",
      "|  null|Logged Out|     null|  null|          186|    null|  null| paid|                null|   GET|           Home|         null|      178|null|   200|1538352148000|                null|      |\n",
      "|  null|Logged Out|     null|  null|          187|    null|  null| paid|                null|   GET|           Home|         null|      178|null|   200|1538352151000|                null|      |\n",
      "|  null|Logged Out|     null|  null|          188|    null|  null| paid|                null|   GET|           Home|         null|      178|null|   200|1538352168000|                null|      |\n",
      "|  null|Logged Out|     null|  null|          189|    null|  null| paid|                null|   PUT|          Login|         null|      178|null|   307|1538352169000|                null|      |\n",
      "|  null| Logged In| Maverick|     M|          190|Santiago|  null| paid|Orlando-Kissimmee...|   GET|           Home|1535953455000|      178|null|   200|1538352176000|\"Mozilla/5.0 (Mac...|   179|\n",
      "|  null| Logged In|    Colin|     M|            0|  Larson|  null| free|Dallas-Fort Worth...|   GET|           Home|1537982255000|      497|null|   200|1538352241000|Mozilla/5.0 (Wind...|   100|\n",
      "|  null| Logged In|    Sofia|     F|          268|  Gordon|  null| paid|       Rochester, MN|   GET|      Downgrade|1533175710000|      162|null|   200|1538352336000|\"Mozilla/5.0 (Mac...|   163|\n",
      "|  null| Logged In| Maverick|     M|          192|Santiago|  null| paid|Orlando-Kissimmee...|   PUT|Add to Playlist|1535953455000|      178|null|   200|1538352376000|\"Mozilla/5.0 (Mac...|   179|\n",
      "|  null| Logged In|   Sawyer|     M|           76|  Larson|  null| free|Houston-The Woodl...|   GET|    Roll Advert|1538069638000|       97|null|   200|1538352435000|\"Mozilla/5.0 (Mac...|    98|\n",
      "+------+----------+---------+------+-------------+--------+------+-----+--------------------+------+---------------+-------------+---------+----+------+-------------+--------------------+------+\n",
      "only showing top 10 rows\n",
      "\n"
     ]
    }
   ],
   "source": [
    "# Exploring missing values in the artist column\n",
    "df.where(col('artist').isNull()).show(10)"
   ]
  },
  {
   "cell_type": "code",
   "execution_count": 10,
   "metadata": {},
   "outputs": [],
   "source": [
    "# Filtering logged out users\n",
    "df = df.where(col('auth') != 'Logged Out')"
   ]
  },
  {
   "cell_type": "markdown",
   "metadata": {},
   "source": [
    "It looks like there are no missing values in the userId or sessionId columns. Checking at missing values in the firstName columns shows that logged out users have empty (but not null) user ID's.These users are excluded from our analysis. Missing values in the artist column correspond to logs for non-music related actions (\"Add to Playlist\", \"Roll Advert\", etc). As long as these users are logged in, we want to keep this activity for they could be relevant features for predicting behavior for classification."
   ]
  },
  {
   "cell_type": "markdown",
   "metadata": {},
   "source": [
    "<a id='EDA'></a>\n",
    "# Exploratory Data Analysis\n",
    "> During this section, we further explore the dataset and try to engineer features for model building. "
   ]
  },
  {
   "cell_type": "code",
   "execution_count": 11,
   "metadata": {},
   "outputs": [
    {
     "name": "stdout",
     "output_type": "stream",
     "text": [
      "root\n",
      " |-- artist: string (nullable = true)\n",
      " |-- auth: string (nullable = true)\n",
      " |-- firstName: string (nullable = true)\n",
      " |-- gender: string (nullable = true)\n",
      " |-- itemInSession: long (nullable = true)\n",
      " |-- lastName: string (nullable = true)\n",
      " |-- length: double (nullable = true)\n",
      " |-- level: string (nullable = true)\n",
      " |-- location: string (nullable = true)\n",
      " |-- method: string (nullable = true)\n",
      " |-- page: string (nullable = true)\n",
      " |-- registration: long (nullable = true)\n",
      " |-- sessionId: long (nullable = true)\n",
      " |-- song: string (nullable = true)\n",
      " |-- status: long (nullable = true)\n",
      " |-- ts: long (nullable = true)\n",
      " |-- userAgent: string (nullable = true)\n",
      " |-- userId: string (nullable = true)\n",
      "\n"
     ]
    }
   ],
   "source": [
    "# Let's remind us the dataset's structure\n",
    "df.printSchema()"
   ]
  },
  {
   "cell_type": "code",
   "execution_count": 12,
   "metadata": {},
   "outputs": [
    {
     "name": "stdout",
     "output_type": "stream",
     "text": [
      "+-----------------+---------+---------+------+-------------+--------+---------+-----+--------------------+------+--------+-------------+---------+------------------+------+-------------+--------------------+------+\n",
      "|           artist|     auth|firstName|gender|itemInSession|lastName|   length|level|            location|method|    page| registration|sessionId|              song|status|           ts|           userAgent|userId|\n",
      "+-----------------+---------+---------+------+-------------+--------+---------+-----+--------------------+------+--------+-------------+---------+------------------+------+-------------+--------------------+------+\n",
      "|    Martin Orford|Logged In|   Joseph|     M|           20| Morales|597.55057| free|  Corpus Christi, TX|   PUT|NextSong|1532063507000|      292|     Grand Designs|   200|1538352011000|\"Mozilla/5.0 (Mac...|   293|\n",
      "|John Brown's Body|Logged In|   Sawyer|     M|           74|  Larson|380.21179| free|Houston-The Woodl...|   PUT|NextSong|1538069638000|       97|             Bulls|   200|1538352025000|\"Mozilla/5.0 (Mac...|    98|\n",
      "|          Afroman|Logged In| Maverick|     M|          184|Santiago|202.37016| paid|Orlando-Kissimmee...|   PUT|NextSong|1535953455000|      178|Because I Got High|   200|1538352118000|\"Mozilla/5.0 (Mac...|   179|\n",
      "|             null|Logged In| Maverick|     M|          185|Santiago|     null| paid|Orlando-Kissimmee...|   PUT|  Logout|1535953455000|      178|              null|   307|1538352119000|\"Mozilla/5.0 (Mac...|   179|\n",
      "|       Lily Allen|Logged In|   Gianna|     F|           22|  Campos|194.53342| paid|          Mobile, AL|   PUT|NextSong|1535931018000|      245|Smile (Radio Edit)|   200|1538352124000|Mozilla/5.0 (Wind...|   246|\n",
      "+-----------------+---------+---------+------+-------------+--------+---------+-----+--------------------+------+--------+-------------+---------+------------------+------+-------------+--------------------+------+\n",
      "only showing top 5 rows\n",
      "\n"
     ]
    }
   ],
   "source": [
    "# Visualize the first few rows\n",
    "df.show(n=5)"
   ]
  },
  {
   "cell_type": "code",
   "execution_count": 13,
   "metadata": {},
   "outputs": [
    {
     "name": "stdout",
     "output_type": "stream",
     "text": [
      "+--------------------+------+\n",
      "|                Page| count|\n",
      "+--------------------+------+\n",
      "|              Cancel|    99|\n",
      "|    Submit Downgrade|   117|\n",
      "|         Thumbs Down|  4911|\n",
      "|                Home| 19130|\n",
      "|           Downgrade|  3811|\n",
      "|         Roll Advert|  7773|\n",
      "|              Logout|  5990|\n",
      "|       Save Settings|   585|\n",
      "|Cancellation Conf...|    99|\n",
      "|               About|  1048|\n",
      "| Submit Registration|     4|\n",
      "|            Settings|  2964|\n",
      "|            Register|    11|\n",
      "|     Add to Playlist| 12349|\n",
      "|          Add Friend|  8087|\n",
      "|            NextSong|432877|\n",
      "|           Thumbs Up| 23826|\n",
      "|                Help|  2658|\n",
      "|             Upgrade|   968|\n",
      "|               Error|   505|\n",
      "+--------------------+------+\n",
      "only showing top 20 rows\n",
      "\n"
     ]
    }
   ],
   "source": [
    "# Visualize all the events and their associated counts\n",
    "df.groupBy('Page').count().show()"
   ]
  },
  {
   "cell_type": "code",
   "execution_count": 14,
   "metadata": {},
   "outputs": [
    {
     "name": "stdout",
     "output_type": "stream",
     "text": [
      "+--------+\n",
      "|nb_users|\n",
      "+--------+\n",
      "|     449|\n",
      "+--------+\n",
      "\n"
     ]
    }
   ],
   "source": [
    "# We see how many unique users are present in this dataset\n",
    "spark.sql('SELECT COUNT(DISTINCT userId) AS nb_users FROM logs').show()"
   ]
  },
  {
   "cell_type": "markdown",
   "metadata": {},
   "source": [
    "<a id='method'></a>\n",
    "# Methodology\n",
    "> Let's recall that the main goal is to better predict  churn, for that purpose it is needed to first define or create a feature to be used for classification. We then create a dataframe containing our new engineered feature, further explore the data, select the features we are going to use for making predictions, create a final dataset ready to be used by a machine learning classifier, train at least three different classifiers without parameters tuning and then select and optimize the parameters of at least one (or two if possible!) model.    \n",
    "\n",
    "### Defining Churn\n",
    "> After conducting some preliminary analysis, let's create a column `Churn` to be used as the label for training the machine learning classifier. It makes sense to use the `Cancellation Confirmation` events as a flag of churn, which happen for both paid and free users. "
   ]
  },
  {
   "cell_type": "markdown",
   "metadata": {},
   "source": [
    "#### According to our previously agreed definition: Churn is a label for users who cancelled\n",
    "Let's recall all the `page` events in the dataset:\n",
    "\n",
    "- About\n",
    "- Add Friend\n",
    "- Add to Playlist\n",
    "- Cancel\n",
    "- Cancellation Confirmation: **Event used as a flag of churn**\n",
    "- Downgrade\n",
    "- Error\n",
    "- Help \n",
    "- Home\n",
    "- Login \n",
    "- Logout\n",
    "- NextSong \n",
    "- Register \n",
    "- Roll Advert\n",
    "- Save Settings \n",
    "- Settings\n",
    "- Submit Downgrade\n",
    "- Submit Registration\n",
    "- Submit Upgrade\n",
    "- Thumbs Down\n",
    "- Thumbs Up\n",
    "- Upgrade"
   ]
  },
  {
   "cell_type": "code",
   "execution_count": 15,
   "metadata": {},
   "outputs": [
    {
     "data": {
      "text/plain": [
       "449"
      ]
     },
     "execution_count": 15,
     "metadata": {},
     "output_type": "execute_result"
    }
   ],
   "source": [
    "# Let's create a dataset with all user ID's and a label which specifies whether that individual churned or not\n",
    "\n",
    "# Dataset with users who churned\n",
    "churn = spark.sql('SELECT DISTINCT userId, 1 as churn FROM logs WHERE Page = \"Cancellation Confirmation\"')\n",
    "\n",
    "# Then the other users\n",
    "no_churn = spark.sql('SELECT DISTINCT userId, 0 as churn FROM logs \\\n",
    "                      WHERE userId NOT IN (SELECT DISTINCT userId FROM logs WHERE Page = \"Cancellation Confirmation\")')\n",
    "\n",
    "# Create a dataframe from the union of the two, shuffling the rows\n",
    "churn_df = churn.union(no_churn)\n",
    "churn_df.createOrReplaceTempView('churn')\n",
    "churn_df = spark.sql('SELECT * FROM churn ORDER BY RAND()')\n",
    "churn_df.createOrReplaceTempView('churn')\n",
    "\n",
    "# Checking that we have the right number of users\n",
    "churn_df.count()"
   ]
  },
  {
   "cell_type": "code",
   "execution_count": 16,
   "metadata": {},
   "outputs": [
    {
     "data": {
      "text/html": [
       "<div>\n",
       "<style scoped>\n",
       "    .dataframe tbody tr th:only-of-type {\n",
       "        vertical-align: middle;\n",
       "    }\n",
       "\n",
       "    .dataframe tbody tr th {\n",
       "        vertical-align: top;\n",
       "    }\n",
       "\n",
       "    .dataframe thead th {\n",
       "        text-align: right;\n",
       "    }\n",
       "</style>\n",
       "<table border=\"1\" class=\"dataframe\">\n",
       "  <thead>\n",
       "    <tr style=\"text-align: right;\">\n",
       "      <th></th>\n",
       "      <th>churn</th>\n",
       "      <th>userId</th>\n",
       "    </tr>\n",
       "  </thead>\n",
       "  <tbody>\n",
       "    <tr>\n",
       "      <th>0</th>\n",
       "      <td>0</td>\n",
       "      <td>350</td>\n",
       "    </tr>\n",
       "    <tr>\n",
       "      <th>1</th>\n",
       "      <td>1</td>\n",
       "      <td>99</td>\n",
       "    </tr>\n",
       "  </tbody>\n",
       "</table>\n",
       "</div>"
      ],
      "text/plain": [
       "   churn  userId\n",
       "0      0     350\n",
       "1      1      99"
      ]
     },
     "execution_count": 16,
     "metadata": {},
     "output_type": "execute_result"
    }
   ],
   "source": [
    "#Visualizing the distribution of users between churn or not\n",
    "churn_pd_df = churn_df.toPandas()\n",
    "churn_pd_df.groupby('churn', as_index=False).count()"
   ]
  },
  {
   "cell_type": "markdown",
   "metadata": {},
   "source": [
    "### Let's recap what we've done so far\n",
    ">We first define churn at the user ID level by setting the cancellation confirmation event as the flag for churn, we then proceed by finding cancellation confirmation events and then creating an indicator that a user will churn. We can now select the relevant features that helps us analysing the user's behavior prior to churning and then build a predictive model, trained to recognize situations that indicate a risk of churning in the future.\n",
    "\n",
    ">In order to proceed building a model, we first need to engineering some features, make data transformations and finally create a dataset ready to be used by a machine learning classifier. "
   ]
  },
  {
   "cell_type": "markdown",
   "metadata": {},
   "source": [
    "# Feature Engineering\n",
    ">Now that we have defined churn, we can engineer features by studying differences between the group of users who churned and those who did not."
   ]
  },
  {
   "cell_type": "code",
   "execution_count": 17,
   "metadata": {},
   "outputs": [
    {
     "name": "stdout",
     "output_type": "stream",
     "text": [
      "+-----+-----+------+\n",
      "|churn|level| count|\n",
      "+-----+-----+------+\n",
      "|    0| free| 82561|\n",
      "|    0| paid|341892|\n",
      "|    1| paid| 76152|\n",
      "|    1| free| 27494|\n",
      "+-----+-----+------+\n",
      "\n"
     ]
    }
   ],
   "source": [
    "# Join the churn dataset to the full dataset adding a churn column\n",
    "joined_df = df.join(churn_df, on='userId')\n",
    "\n",
    "# Now we can further explore the data creating aggregations grouping by churn\n",
    "joined_df.groupBy(['churn', 'level']).count().show(5)"
   ]
  },
  {
   "cell_type": "code",
   "execution_count": 18,
   "metadata": {},
   "outputs": [
    {
     "data": {
      "image/png": "[encoded data removed]",
      "text/plain": [
       "<Figure size 432x288 with 1 Axes>"
      ]
     },
     "metadata": {
      "needs_background": "light"
     },
     "output_type": "display_data"
    }
   ],
   "source": [
    "# Visualizing churn proportions by account level\n",
    "level_df = joined_df.groupBy(['churn', 'level']).count().toPandas()\n",
    "churn_sum = level_df.groupby('churn', as_index=False).sum()\n",
    "level_df['proportion'] = (level_df.join(churn_sum, on = 'churn', lsuffix='_1')['count_1']/level_df.join(churn_sum, on = 'churn', lsuffix='_1')['count'])*100\n",
    "\n",
    "g = sns.barplot(x=\"churn\", y=\"proportion\", hue=\"level\", data=level_df,\n",
    "                palette=\"muted\")\n",
    "g.set(xlabel='Churn', ylabel=\"Proportion (%)\")\n",
    "plt.show();"
   ]
  },
  {
   "cell_type": "code",
   "execution_count": 19,
   "metadata": {},
   "outputs": [],
   "source": [
    "# def plot_frequency(subset, group, labels, x_title=\"Number of users\", y_title=\"Subscription status\"):\n",
    "#     ax = joined_df.drop_duplicates(subset=subset).groupby(\n",
    "#                                 group)['userId'].count().plot(\n",
    "#                                 kind='barh', figsize=(8,5), \n",
    "#                                 title='Number of unique users per category');\n",
    "#     ax.set_xlabel(x_title);\n",
    "#     ax.set_yticklabels(labels, rotation=0)\n",
    "#     ax.set_ylabel(y_title);\n",
    "\n",
    "# # Test    \n",
    "# plot_frequency(['userId'], ['churn'], ['Active', 'Cancelled'])"
   ]
  },
  {
   "cell_type": "code",
   "execution_count": 20,
   "metadata": {},
   "outputs": [
    {
     "name": "stdout",
     "output_type": "stream",
     "text": [
      "+-----+------------------+\n",
      "|churn|       avg(length)|\n",
      "+-----+------------------+\n",
      "|    1|248.99398360601674|\n",
      "|    0| 248.5848635245239|\n",
      "+-----+------------------+\n",
      "\n"
     ]
    }
   ],
   "source": [
    "# Gettting the avegare length grouping by churn\n",
    "joined_df.groupBy('churn').avg('length').show(5)"
   ]
  },
  {
   "cell_type": "code",
   "execution_count": 21,
   "metadata": {},
   "outputs": [
    {
     "data": {
      "image/png": "[encoded data removed]",
      "text/plain": [
       "<Figure size 432x216 with 2 Axes>"
      ]
     },
     "metadata": {
      "needs_background": "light"
     },
     "output_type": "display_data"
    }
   ],
   "source": [
    "# getting the average length for every user, transform to a Pandas dataframe\n",
    "length_df = joined_df.groupBy(['userId', 'churn']).avg('length').toPandas()\n",
    "\n",
    "# visualizing the distribution of length between two groups of users\n",
    "g = sns.FacetGrid(length_df, col=\"churn\", sharey=False)\n",
    "g.map(plt.hist, \"avg(length)\");"
   ]
  },
  {
   "cell_type": "code",
   "execution_count": 22,
   "metadata": {},
   "outputs": [
    {
     "name": "stdout",
     "output_type": "stream",
     "text": [
      "+-----+------------------+\n",
      "|churn|avg(itemInSession)|\n",
      "+-----+------------------+\n",
      "|    1| 107.5093008895664|\n",
      "|    0|107.82320775209504|\n",
      "+-----+------------------+\n",
      "\n"
     ]
    }
   ],
   "source": [
    "# The itemInSession variable, which represents the rank fo the song in the current session\n",
    "joined_df.groupBy('churn').avg('itemInSession').show(5)"
   ]
  },
  {
   "cell_type": "code",
   "execution_count": 23,
   "metadata": {},
   "outputs": [
    {
     "data": {
      "image/png": "[encoded data removed]",
      "text/plain": [
       "<Figure size 432x216 with 2 Axes>"
      ]
     },
     "metadata": {
      "needs_background": "light"
     },
     "output_type": "display_data"
    }
   ],
   "source": [
    "# Visualizing the distribution between both groups\n",
    "item_df = joined_df.groupBy(['userId','churn']).avg('itemInSession').toPandas()\n",
    "g = sns.FacetGrid(item_df, col=\"churn\", sharey=False)\n",
    "g.map(plt.hist, \"avg(itemInSession)\");"
   ]
  },
  {
   "cell_type": "code",
   "execution_count": 24,
   "metadata": {},
   "outputs": [
    {
     "name": "stdout",
     "output_type": "stream",
     "text": [
      "+-----+-----+-----+\n",
      "|churn|state|count|\n",
      "+-----+-----+-----+\n",
      "|    0|   CA|66597|\n",
      "|    0|   TX|35492|\n",
      "|    0|   PA|32421|\n",
      "|    0|   WI|29272|\n",
      "|    0|   FL|26822|\n",
      "+-----+-----+-----+\n",
      "only showing top 5 rows\n",
      "\n",
      "+-----+-----+-----+\n",
      "|churn|state|count|\n",
      "+-----+-----+-----+\n",
      "|    1|   PA|14638|\n",
      "|    1|   CA|11574|\n",
      "|    1|   IN| 8891|\n",
      "|    1|   TX| 6950|\n",
      "|    1|   AL| 6258|\n",
      "+-----+-----+-----+\n",
      "only showing top 5 rows\n",
      "\n"
     ]
    }
   ],
   "source": [
    "# We can create a variable representing the state\n",
    "joined_df = joined_df.withColumn('state', substring(col(\"location\"), -2, 3))\n",
    "\n",
    "# Which are the states where most people decided to churn? \n",
    "joined_df.groupBy(['churn', 'state']).count().where(joined_df['churn'] == 0).sort(col('count').desc()).show(5)\n",
    "joined_df.groupBy(['churn', 'state']).count().where(joined_df['churn'] == 1).sort(col('count').desc()).show(5)"
   ]
  },
  {
   "cell_type": "code",
   "execution_count": 25,
   "metadata": {},
   "outputs": [
    {
     "name": "stdout",
     "output_type": "stream",
     "text": [
      "+-----+--------------------+\n",
      "|churn|             avg(ts)|\n",
      "+-----+--------------------+\n",
      "|    1| 1.54035761395694E12|\n",
      "|    0|1.541115986216682...|\n",
      "+-----+--------------------+\n",
      "\n"
     ]
    }
   ],
   "source": [
    "# Are there differences based on ts?\n",
    "joined_df.groupBy('churn').avg('ts').show(5)"
   ]
  },
  {
   "cell_type": "code",
   "execution_count": 26,
   "metadata": {},
   "outputs": [],
   "source": [
    "# Let's convert the ts to a date format so we can create several time based features\n",
    "joined_df = joined_df.withColumn('date', from_unixtime((col('ts')/1000)).cast(DateType()))"
   ]
  },
  {
   "cell_type": "code",
   "execution_count": 27,
   "metadata": {},
   "outputs": [],
   "source": [
    "# extract day and month from the date column\n",
    "joined_df = joined_df.withColumn('day', dayofmonth('date')).withColumn('month', month('date'))\n",
    "\n",
    "# we can now compute for a given user the average number of distinct sessions per day and per month\n",
    "day_df = joined_df.groupBy(['userId', 'day']).agg(countDistinct('sessionId')).groupBy('userId').avg('count(DISTINCT sessionId)') \\\n",
    "                  .withColumnRenamed('avg(count(DISTINCT sessionId))', 'daily_sessions')\n",
    "month_df = joined_df.groupBy(['userId', 'month']).agg(countDistinct('sessionId')).groupBy('userId').avg('count(DISTINCT sessionId)') \\\n",
    "                  .withColumnRenamed('avg(count(DISTINCT sessionId))', 'monthly_sessions')\n",
    "\n",
    "# finally, let's integrate this new information into our dataset for later use \n",
    "joined_df = joined_df.join(day_df, on='userId').join(month_df, on='userId')"
   ]
  },
  {
   "cell_type": "code",
   "execution_count": 28,
   "metadata": {},
   "outputs": [
    {
     "name": "stdout",
     "output_type": "stream",
     "text": [
      "+-----+-------------------+\n",
      "|churn|avg(daily_sessions)|\n",
      "+-----+-------------------+\n",
      "|    1|  1.574186648920741|\n",
      "|    0| 1.6177359492828687|\n",
      "+-----+-------------------+\n",
      "\n",
      "+-----+---------------------+\n",
      "|churn|avg(monthly_sessions)|\n",
      "+-----+---------------------+\n",
      "|    1|   14.124930050363739|\n",
      "|    0|   13.961969091198952|\n",
      "+-----+---------------------+\n",
      "\n"
     ]
    }
   ],
   "source": [
    "# Comparing the number of daily and monthly sessions for the two groups of users\n",
    "joined_df.groupBy('churn').avg('daily_sessions').show()\n",
    "joined_df.groupBy('churn').avg('monthly_sessions').show()"
   ]
  },
  {
   "cell_type": "code",
   "execution_count": 29,
   "metadata": {},
   "outputs": [],
   "source": [
    "#Let's do the same process for registration which is also a timestamp that we can convert to dates\n",
    "joined_df = joined_df.withColumn('registration_date', from_unixtime((col('registration')/1000)).cast(DateType()))\n",
    "joined_df = joined_df.withColumn('days_since_registration', datediff(current_date(), col('registration_date')))\n",
    "joined_df = joined_df.withColumn('month_registration', month('registration_date'))"
   ]
  },
  {
   "cell_type": "code",
   "execution_count": 30,
   "metadata": {},
   "outputs": [
    {
     "name": "stdout",
     "output_type": "stream",
     "text": [
      "+-----+--------------------+-----+\n",
      "|churn|           userAgent|count|\n",
      "+-----+--------------------+-----+\n",
      "|    0|\"Mozilla/5.0 (Win...|37085|\n",
      "|    0|\"Mozilla/5.0 (Mac...|36479|\n",
      "|    0|Mozilla/5.0 (Wind...|26025|\n",
      "|    0|\"Mozilla/5.0 (Win...|19743|\n",
      "|    0|\"Mozilla/5.0 (Mac...|19506|\n",
      "+-----+--------------------+-----+\n",
      "only showing top 5 rows\n",
      "\n",
      "+-----+--------------------+-----+\n",
      "|churn|           userAgent|count|\n",
      "+-----+--------------------+-----+\n",
      "|    1|Mozilla/5.0 (Wind...|13431|\n",
      "|    1|\"Mozilla/5.0 (Mac...|12147|\n",
      "|    1|\"Mozilla/5.0 (Win...|11959|\n",
      "|    1|\"Mozilla/5.0 (Mac...| 9603|\n",
      "|    1|\"Mozilla/5.0 (Mac...| 6981|\n",
      "+-----+--------------------+-----+\n",
      "only showing top 5 rows\n",
      "\n"
     ]
    }
   ],
   "source": [
    "# Are ther differences based on user agent?\n",
    "joined_df.groupBy(['churn', 'userAgent']).count().where(joined_df['churn'] == 0).sort(col('count').desc()).show(5)\n",
    "joined_df.groupBy(['churn', 'userAgent']).count().where(joined_df['churn'] == 1).sort(col('count').desc()).show(5)"
   ]
  },
  {
   "cell_type": "code",
   "execution_count": 31,
   "metadata": {},
   "outputs": [],
   "source": [
    "# We can compute the number of downgrades, upgrades, thumbs up, thumbs down, add friend, add to playlist, \n",
    "# roll advert events for a given user counting the number of times they occur\n",
    "for c in ['Downgrade', 'Roll Advert', 'Thumbs Down', 'Add to Playlist', 'Add Friend', 'Thumbs Up']:\n",
    "    joined_df = joined_df.withColumn(c, (joined_df['Page'] == c).cast(IntegerType()))\n",
    "    \n",
    "# We can now create some aggregations and create our ready to use features dataframe\n",
    "features_df = joined_df.groupBy('userId').agg(avg('itemInSession'),avg('length'),min('daily_sessions'),min('monthly_sessions'),min('days_since_registration'),\n",
    "                                              min('month_registration'),max('level'),max('userAgent'),max('state'), sum('Downgrade'),sum('Roll Advert'),\n",
    "                                           sum('Thumbs Down'), sum('Add to Playlist'),sum('Add Friend'), sum('Thumbs Up'), max('churn'))\n",
    "\n",
    "features_df = features_df.select(col('avg(itemInSession)').alias('itemInSession'),col('avg(length)').alias('length'), col('min(daily_sessions)').alias('daily_sessions'),\n",
    "                                 col('min(monthly_sessions)').alias('monthly_sessions'),col('min(days_since_registration)').alias('days_since_registration'),\n",
    "                                 col('min(month_registration)').alias('month_registration'),col('max(level)').alias('level'),col('max(userAgent)').alias('userAgent'),\n",
    "                  col('max(state)').alias('state'),col('sum(Downgrade)').alias('downgrade'),col('sum(Roll Advert)').alias('rollAdvert'),col('sum(Thumbs Down)').alias('thumbsDown'),\n",
    "                  col('sum(Add to Playlist)').alias('addToPlaylist'),col('sum(Add Friend)').alias('addFriend'), col('sum(Thumbs Up)').alias('thumbsUp'),col('max(churn)').alias('label'))"
   ]
  },
  {
   "cell_type": "code",
   "execution_count": 32,
   "metadata": {},
   "outputs": [
    {
     "name": "stdout",
     "output_type": "stream",
     "text": [
      "+-------------+------+--------------+----------------+-----------------------+------------------+-----+---------+-----+---------+----------+----------+-------------+---------+--------+-----+\n",
      "|itemInSession|length|daily_sessions|monthly_sessions|days_since_registration|month_registration|level|userAgent|state|downgrade|rollAdvert|thumbsDown|addToPlaylist|addFriend|thumbsUp|label|\n",
      "+-------------+------+--------------+----------------+-----------------------+------------------+-----+---------+-----+---------+----------+----------+-------------+---------+--------+-----+\n",
      "|            0|     1|             0|               0|                      1|                 1|    0|        1|    1|        0|         0|         0|            0|        0|       0|    0|\n",
      "+-------------+------+--------------+----------------+-----------------------+------------------+-----+---------+-----+---------+----------+----------+-------------+---------+--------+-----+\n",
      "\n"
     ]
    }
   ],
   "source": [
    "# Let's first make sure there are no missing values\n",
    "features_df.select([count(when(isnull(c), c)).alias(c) for c in features_df.columns]).show()\n",
    "features_df = features_df.where(col(\"userAgent\").isNotNull()).where(col(\"state\").isNotNull())"
   ]
  },
  {
   "cell_type": "markdown",
   "metadata": {},
   "source": [
    "### Selecting Features\n",
    ">After creating, exploring, transforming and analysing several features between users who decided to churn and those who continue using the service, we are now ready to choose some specific features for training our model:\n",
    "\n",
    "* We can use the item in session, which loosely translates to the number of songs per session as a predictor for our model\n",
    "* The state as well as the tier seem to provide information regarding whether a user will churn or not\n",
    "* After converting the ts column to a date and extracting time-based features such as the average number of sessions per day and per month, we can include that information for our model\n",
    "* The number of days since registration and the registration month could provide some relevant predicting information.\n",
    "* Similarly, on-platform behaviors (thumbs up e.g.) can be an indicative mark for churn prediction.\n",
    "\n",
    "> Said that, the final features to be used are the following:  `'itemInSession'`,`'length'`,`'daily_sessions'`,`'monthly_sessions'`,`'days_since_registration'`,`'month_registration'`,\n",
    "`'level_index'`,`'state_index'`,`'userAgent_index'`,`'downgrade'`,`'rollAdvert'`,`'thumbsDown'`,`'addToPlaylist'`,\n",
    "`'addFriend'`,`'thumbsUp'`"
   ]
  },
  {
   "cell_type": "markdown",
   "metadata": {},
   "source": [
    "<a id='implementation'></a>\n",
    "## Model Implementation"
   ]
  },
  {
   "cell_type": "code",
   "execution_count": 33,
   "metadata": {},
   "outputs": [],
   "source": [
    "feature_columns=['itemInSession','length','daily_sessions','monthly_sessions', 'days_since_registration','month_registration','level_index','state_index','userAgent_index','downgrade',\\\n",
    "                 'rollAdvert', 'thumbsDown', 'addToPlaylist','addFriend','thumbsUp']\n",
    "# We first create a pipeline to prepare our data for modeling\n",
    "indexer_state = StringIndexer(inputCol='state', outputCol='state_index')\n",
    "indexer_level = StringIndexer(inputCol='level', outputCol='level_index')\n",
    "indexer_ua = StringIndexer(inputCol='userAgent', outputCol='userAgent_index')\n",
    "assembler = VectorAssembler(inputCols=feature_columns,outputCol='features')\n",
    "features_pipeline = Pipeline(stages=[indexer_state, indexer_level, indexer_ua, assembler])\n",
    "\n",
    "model_df = features_pipeline.fit(features_df).transform(features_df)"
   ]
  },
  {
   "cell_type": "code",
   "execution_count": 34,
   "metadata": {},
   "outputs": [],
   "source": [
    "# Due to the structure of data, we need to convert some features vector from Sparse to Dense\n",
    "df2 = model_df.select(\"label\", \"features\")\n",
    "rdd = df2.rdd.map(lambda x: Row(label=x[0],features=DenseVector(x[1].toArray()))\n",
    "                     if (len(x)>1 and hasattr(x[1], \"toArray\"))\n",
    "                     else Row(label=None, features=DenseVector([])))\n",
    "model_data = spark.createDataFrame(rdd)"
   ]
  },
  {
   "cell_type": "code",
   "execution_count": 35,
   "metadata": {},
   "outputs": [],
   "source": [
    "# Create a function to train and evaluate a model\n",
    "def train_model(train, test, model):\n",
    "    '''\n",
    "    INPUTS:\n",
    "    train: a Spark data frame with the training data\n",
    "    test : a Spark data frame with testing data\n",
    "    model(string): the name of one of the available models to train, only the options: 'logistic_regression', 'random_forest' \n",
    "                    or 'gradient_boosting' are available.\n",
    "    \n",
    "    OUTPUT:\n",
    "    This fucntion does not return anything, but prints out the accuracy and f1 score for the selected model\n",
    "    \n",
    "    DESCRIPTION:\n",
    "    This function fits and evaluates the performance of three different classification models \n",
    "    running on their default parameters. It helps identifying the model that best performs on the given\n",
    "    data and so the best candidate for hyper-parameters tuning. \n",
    "    '''\n",
    "    # Choose the model\n",
    "    if model == 'logistic_regression':\n",
    "        ml = LogisticRegression()\n",
    "    elif model == 'random_forest': \n",
    "        ml = RandomForestClassifier()\n",
    "    elif model == 'gradient_boosting':\n",
    "        ml = GBTClassifier()\n",
    "    else:\n",
    "        return \"Please choose one model between:'logistic_regression','random_forest' and 'gradient_boosting'\"\n",
    "    \n",
    "    # Fit and calculate predictions\n",
    "    classification = ml.fit(train)\n",
    "    results = classification.transform(test)\n",
    "    \n",
    "    # Calculate accuracy and F-1 score\n",
    "    accuracy_evaluator = MulticlassClassificationEvaluator(metricName='accuracy')\n",
    "    accuracy = accuracy_evaluator.evaluate(results.select(col('label'), col('prediction')))\n",
    "    \n",
    "    f1_score_evaluator = MulticlassClassificationEvaluator(metricName='f1')\n",
    "    f1_score = f1_score_evaluator.evaluate(results.select(col('label'), col('prediction')))\n",
    "    \n",
    "    print('For {}, the accuracy on the test set is {:.2%} and the F-1 score is {}'\\\n",
    "    .format(model, accuracy, f1_score))"
   ]
  },
  {
   "cell_type": "code",
   "execution_count": 36,
   "metadata": {},
   "outputs": [
    {
     "name": "stdout",
     "output_type": "stream",
     "text": [
      "In our training set, before upsampling we have 79 users who churned and 283 who did not.\n"
     ]
    }
   ],
   "source": [
    "# Split this data between train, validation and test sets\n",
    "train, test = model_data.randomSplit([0.8, 0.2], seed=42)\n",
    "\n",
    "# Due to the class imbalance, we upsample the categories who churned in the training dataset\n",
    "print('In our training set, before upsampling we have {} users who churned and {} who did not.'.format(train.where(col('label') == 1).count(),\n",
    "                                                                                           train.where(col('label') == 0).count()))\n",
    "\n",
    "train_churn = train.where(col('label') == 1).sample(True, train.where(col('label') == 0).count()/train.where(col('label') == 1).count())\n",
    "train_no_churn = train.where(col('label') == 0)\n",
    "train = train_churn.unionAll(train_no_churn)\n"
   ]
  },
  {
   "cell_type": "code",
   "execution_count": 37,
   "metadata": {},
   "outputs": [
    {
     "name": "stdout",
     "output_type": "stream",
     "text": [
      "For logistic_regression, the accuracy on the test set is 60.47% and the F-1 score is 0.6352436323366557\n",
      "For random_forest, the accuracy on the test set is 67.44% and the F-1 score is 0.6841305496828751\n",
      "For gradient_boosting, the accuracy on the test set is 76.74% and the F-1 score is 0.7711900502598177\n"
     ]
    }
   ],
   "source": [
    "# Fit selected models and visualize their performance\n",
    "for model in ['logistic_regression', 'random_forest', 'gradient_boosting']:\n",
    "    train_model(train, test, model)"
   ]
  },
  {
   "cell_type": "markdown",
   "metadata": {},
   "source": [
    "<a id='evaluation'></a>\n",
    "## Evaluating Model Performance\n",
    ">There are quite important performance differences for the three selected models. The gradient_boosting classifier did it pretty well reaching the highest accuracy and f1 scores running on the default parameters, then followed by the random_forest and the worst was the logistic-regression. \n",
    "> Let's find out if we can achieve even better results by optimizing the Gradient Boosting and the Random Forest models. "
   ]
  },
  {
   "cell_type": "code",
   "execution_count": null,
   "metadata": {},
   "outputs": [],
   "source": [
    "#Optimize a GradientBoosting model through Grid Search\n",
    "##########################################################\n",
    "gbt = GBTClassifier()\n",
    "\n",
    "paramGrid = (ParamGridBuilder()\n",
    "             .addGrid(gbt.maxDepth, [2, 4, 6])\n",
    "             .addGrid(gbt.maxBins, [20, 60])\n",
    "             .addGrid(gbt.maxIter, [10, 20])\n",
    "             .build())\n",
    "\n",
    "gbt_crossval = CrossValidator(estimator=gbt,#Pipeline(stages=[gbt]),\n",
    "                          estimatorParamMaps=paramGrid,\n",
    "                          evaluator=MulticlassClassificationEvaluator(),\n",
    "                          numFolds=3)\n",
    "\n",
    "###############################################################\n",
    "gbt_classifier = crossval.fit(train)\n",
    "predictions = gbt_classifier.transform(test)\n",
    "\n",
    "# Calculate accuracy and F-1 score\n",
    "acc_eval = MulticlassClassificationEvaluator(metricName='accuracy')\n",
    "accuracy = acc_eval.evaluate(results.select(col('label'), col('prediction')))\n",
    "\n",
    "f1_score_evaluator = MulticlassClassificationEvaluator(metricName='f1')\n",
    "f1_score = f1_score_evaluator.evaluate(results.select(col('label'), col('prediction')))\n",
    "\n",
    "print('For the {} classifier, the accuracy on the test set is {:.3%} and the F-1 score is {}'\\\n",
    ".format(gbt, accuracy, f1_score))"
   ]
  },
  {
   "cell_type": "markdown",
   "metadata": {},
   "source": [
    "### Note: \n",
    ">Even though the Gradient Boosting Classifier had the best performance making predictions on the test data, since it took so long to optimize a model using GridSearch and I was running out of credits on Watson Studio, I decided to continue with the optimization of a Random Forest model which is remarkably faster to train, thus consuming less processing unit hours."
   ]
  },
  {
   "cell_type": "code",
   "execution_count": 42,
   "metadata": {},
   "outputs": [
    {
     "name": "stdout",
     "output_type": "stream",
     "text": [
      "For RandomForestClassifier_476ba9b64c1952b2969e, the accuracy on the test set is 75.58% and the F-1 score is 0.7188945777558449\n"
     ]
    }
   ],
   "source": [
    "#Optimize a Random Forest model through Grid Search\n",
    "model = RandomForestClassifier()\n",
    "#Defining Grid Parameters\n",
    "param_grid = ParamGridBuilder()\\\n",
    "            .addGrid(model.numTrees, [5, 10, 20, 50])\\\n",
    "            .addGrid(model.maxDepth, [5, 10])\\\n",
    "            .addGrid(model.impurity, [\"entropy\", \"gini\"])\\\n",
    "            .build()\n",
    "\n",
    "crossval = CrossValidator(estimator = Pipeline(stages=[model]),\n",
    "                         estimatorParamMaps = param_grid,\n",
    "                         evaluator = MulticlassClassificationEvaluator(),\n",
    "                         numFolds = 3)\n",
    "\n",
    "# Running cross-validation on the training set, and choose the best set of parameters.\n",
    "cvModel = crossval.fit(train)\n",
    "# Making predictions on test set. cvModel uses the best model found.\n",
    "predictions = cvModel.transform(test)\n",
    "\n",
    "# Calculate accuracy and F-1 score\n",
    "acc_eval = MulticlassClassificationEvaluator(metricName='accuracy')\n",
    "accuracy = acc_eval.evaluate(predictions.select(col('label'), col('prediction')))\n",
    "\n",
    "f1_score_eval = MulticlassClassificationEvaluator(metricName='f1')\n",
    "f1_score = f1_score_eval.evaluate(predictions.select(col('label'), col('prediction')))\n",
    "\n",
    "print('For {}, the accuracy on the test set is {:.2%} and the F-1 score is {}'\\\n",
    ".format(model, accuracy, f1_score))"
   ]
  },
  {
   "cell_type": "code",
   "execution_count": 44,
   "metadata": {},
   "outputs": [
    {
     "data": {
      "text/plain": [
       "DenseVector([0.0982, 0.0665, 0.0306, 0.0705, 0.1014, 0.0222, 0.0093, 0.0584, 0.0715, 0.0681, 0.0874, 0.0789, 0.0621, 0.0752, 0.0999])"
      ]
     },
     "execution_count": 44,
     "metadata": {},
     "output_type": "execute_result"
    }
   ],
   "source": [
    "# Examine feature importance\n",
    "DenseVector(cvModel.bestModel.stages[-1].featureImportances)"
   ]
  },
  {
   "cell_type": "code",
   "execution_count": 45,
   "metadata": {},
   "outputs": [
    {
     "data": {
      "text/plain": [
       "SparseVector(15, {0: 0.0982, 1: 0.0665, 2: 0.0306, 3: 0.0705, 4: 0.1014, 5: 0.0222, 6: 0.0093, 7: 0.0584, 8: 0.0715, 9: 0.0681, 10: 0.0874, 11: 0.0789, 12: 0.0621, 13: 0.0752, 14: 0.0999})"
      ]
     },
     "execution_count": 45,
     "metadata": {},
     "output_type": "execute_result"
    }
   ],
   "source": [
    "# Examine feature importance\n",
    "cvModel.bestModel.stages[0].featureImportances"
   ]
  },
  {
   "cell_type": "code",
   "execution_count": 46,
   "metadata": {},
   "outputs": [],
   "source": [
    "feature_columns=['itemInSession','length','daily_sessions','monthly_sessions', 'days_since_registration','month_registration','level_index','state_index','userAgent_index','downgrade',\\\n",
    "                 'rollAdvert', 'thumbsDown', 'addToPlaylist','addFriend','thumbsUp']"
   ]
  },
  {
   "cell_type": "code",
   "execution_count": 47,
   "metadata": {},
   "outputs": [
    {
     "data": {
      "text/html": [
       "<div>\n",
       "<style scoped>\n",
       "    .dataframe tbody tr th:only-of-type {\n",
       "        vertical-align: middle;\n",
       "    }\n",
       "\n",
       "    .dataframe tbody tr th {\n",
       "        vertical-align: top;\n",
       "    }\n",
       "\n",
       "    .dataframe thead th {\n",
       "        text-align: right;\n",
       "    }\n",
       "</style>\n",
       "<table border=\"1\" class=\"dataframe\">\n",
       "  <thead>\n",
       "    <tr style=\"text-align: right;\">\n",
       "      <th></th>\n",
       "      <th>feature</th>\n",
       "      <th>importance</th>\n",
       "    </tr>\n",
       "  </thead>\n",
       "  <tbody>\n",
       "    <tr>\n",
       "      <th>0</th>\n",
       "      <td>days_since_registration</td>\n",
       "      <td>0.101393</td>\n",
       "    </tr>\n",
       "    <tr>\n",
       "      <th>1</th>\n",
       "      <td>thumbsUp</td>\n",
       "      <td>0.099933</td>\n",
       "    </tr>\n",
       "    <tr>\n",
       "      <th>2</th>\n",
       "      <td>itemInSession</td>\n",
       "      <td>0.098195</td>\n",
       "    </tr>\n",
       "    <tr>\n",
       "      <th>3</th>\n",
       "      <td>rollAdvert</td>\n",
       "      <td>0.087403</td>\n",
       "    </tr>\n",
       "    <tr>\n",
       "      <th>4</th>\n",
       "      <td>thumbsDown</td>\n",
       "      <td>0.078860</td>\n",
       "    </tr>\n",
       "    <tr>\n",
       "      <th>5</th>\n",
       "      <td>addFriend</td>\n",
       "      <td>0.075230</td>\n",
       "    </tr>\n",
       "    <tr>\n",
       "      <th>6</th>\n",
       "      <td>userAgent_index</td>\n",
       "      <td>0.071500</td>\n",
       "    </tr>\n",
       "    <tr>\n",
       "      <th>7</th>\n",
       "      <td>monthly_sessions</td>\n",
       "      <td>0.070452</td>\n",
       "    </tr>\n",
       "    <tr>\n",
       "      <th>8</th>\n",
       "      <td>downgrade</td>\n",
       "      <td>0.068074</td>\n",
       "    </tr>\n",
       "    <tr>\n",
       "      <th>9</th>\n",
       "      <td>length</td>\n",
       "      <td>0.066487</td>\n",
       "    </tr>\n",
       "    <tr>\n",
       "      <th>10</th>\n",
       "      <td>addToPlaylist</td>\n",
       "      <td>0.062103</td>\n",
       "    </tr>\n",
       "    <tr>\n",
       "      <th>11</th>\n",
       "      <td>state_index</td>\n",
       "      <td>0.058369</td>\n",
       "    </tr>\n",
       "    <tr>\n",
       "      <th>12</th>\n",
       "      <td>daily_sessions</td>\n",
       "      <td>0.030558</td>\n",
       "    </tr>\n",
       "    <tr>\n",
       "      <th>13</th>\n",
       "      <td>month_registration</td>\n",
       "      <td>0.022173</td>\n",
       "    </tr>\n",
       "    <tr>\n",
       "      <th>14</th>\n",
       "      <td>level_index</td>\n",
       "      <td>0.009269</td>\n",
       "    </tr>\n",
       "  </tbody>\n",
       "</table>\n",
       "</div>"
      ],
      "text/plain": [
       "                    feature  importance\n",
       "0   days_since_registration    0.101393\n",
       "1                  thumbsUp    0.099933\n",
       "2             itemInSession    0.098195\n",
       "3                rollAdvert    0.087403\n",
       "4                thumbsDown    0.078860\n",
       "5                 addFriend    0.075230\n",
       "6           userAgent_index    0.071500\n",
       "7          monthly_sessions    0.070452\n",
       "8                 downgrade    0.068074\n",
       "9                    length    0.066487\n",
       "10            addToPlaylist    0.062103\n",
       "11              state_index    0.058369\n",
       "12           daily_sessions    0.030558\n",
       "13       month_registration    0.022173\n",
       "14              level_index    0.009269"
      ]
     },
     "execution_count": 47,
     "metadata": {},
     "output_type": "execute_result"
    }
   ],
   "source": [
    "#Checking features importance\n",
    "rf_feature_importance_df = pd.DataFrame()\n",
    "rf_feature_importance_df['feature'] = feature_columns\n",
    "rf_feature_importance_df['importance'] = cvModel.bestModel.stages[0].featureImportances.values.tolist()\n",
    "rf_feature_importance_df = rf_feature_importance_df.sort_values(by='importance', ascending=False).reset_index(drop=True)\n",
    "rf_feature_importance_df"
   ]
  },
  {
   "cell_type": "code",
   "execution_count": 48,
   "metadata": {},
   "outputs": [
    {
     "data": {
      "image/png": "[encoded data removed]",
      "text/plain": [
       "<Figure size 504x504 with 1 Axes>"
      ]
     },
     "metadata": {
      "needs_background": "light"
     },
     "output_type": "display_data"
    }
   ],
   "source": [
    "#Let's create a visualization of the feature importance for predicting churn\n",
    "plt.figure(figsize=(7,7))\n",
    "sns.barplot(x='importance', y='feature', data=rf_feature_importance_df, color=\"b\")\n",
    "plt.title('Feature Importance')\n",
    "plt.ylabel('');"
   ]
  },
  {
   "cell_type": "markdown",
   "metadata": {},
   "source": [
    "<a id='results'></a>\n",
    "# Analysis & Results\n",
    "\n",
    ">Starting from loading the dataset into the IBM Cloud, then doing some data wrangling and exploratory\n",
    "data analysis, we performed a features engineering process, considering those features related to the\n",
    "account characterestics, like for instance whether the account was paid vs. free, state, and registration date.\n",
    "Additionally, user's behavior when interacting on the platform (thumbs up, creation of playlists, number of songs per session etc.) was considered as potential churn predictors. All those features were used to engineer a final\n",
    "dataset, then applied some transformations so that it could be used to efficiently process the data to train \n",
    "a machine learning classifier using the Spark MLlib. \n",
    "\n",
    ">Before creating the final model, I tested three different classifiers, namely `LogisticRegression`, `RandomForestClassifier`,`GBTClassifier` and compared their accuracy and F1 score on the test set. Based on the\n",
    "results, it was clear that the GBTClassifier outperformed the other two models, so I tried to optimize a GBTClassifier using a `CrossValidator` and `GridSearch` but it took so long to train that I decided to continue tuning a RandomForest model which was faster to optimize and also allows performing a features importance analysis.  \n",
    "\n",
    ">After hyperparameter tuning, the evaluation of the final model showed a 75.58% accuracy on the test set,\n",
    "with a F1 score of 0.72. There was a significant performance improvement after applying GridSearch as compared to the\n",
    "model running on the default parameters, but still not as good as the GBTClassier. \n",
    "\n",
    ">Looking at feature importance, we see that `days_since_registration`,`thumbs_up` and `itemsInSession` are the most important predictors of churn. So, the time a given user has been interacting with the platform and the behavior during those interactions are relevant features that let us flag a risk of churn. Getting this insight is crucial for Sparkify, since allows targeting those users representing a high risk of churn with special offers that keep them connected to the application. \n",
    "\n",
    "<a id='discussion'></a>\n",
    "## Discussion & Possible Improvements\n",
    "\n",
    ">By using a larger dataset and exploiting the full potential of cloud deployment, we could further improve this analysis and build an even better classifier(possible by optimizing a GBTClassifier). Grid search has shown to be a particularly computationally expensive operation, but with better resources and more time, there is plenty of room for improvement. Despite that fact, this notebook is a very useful guideline on how to use Spark on IBM Watson Studio to run big data analysis and build machine learning classifier on the cloud.   \n",
    "\n",
    ">As more users get into the platform, we can regularly run the model to see if there are significant changes on their behavior and thus use that knowledge to further improve our model.\n",
    "\n",
    ">We can design experiments to identify and evaluate risk mitigation actions that help reducing churn. An idea would be to run A/B tests to evaluate the effectiveness of some particular mitigating actions taken. A way to implement such an experiment would be to find users identified at high risk of churn, split them into a control and treatment group, assign some \"churn-mitigating\" treatment and compare their churn rates through statistical hypothesis testing. This is only an idea that could be a good complement this analysis. "
   ]
  },
  {
   "cell_type": "markdown",
   "metadata": {},
   "source": [
    "<a id='conclusion'></a>\n",
    "## Conclusion\n",
    "\n",
    ">By using historical log data and using Spark on the IBM Cloud platform, specifically Watson Studio, we could build a Random Forest classifier able to predict churn for Sparkify's users with close to 76% accuracy on the test set, and a F1 score of around 0.72 ensures we have a good balance between precision and recall.\n",
    "\n",
    ">Sparkify can use the insights from this analysis for better business decision making and take actions to mitigate the risk of churn and that way improving revenue, growth and good health of the business. \n",
    "\n",
    ">Additional measures like A/B testing can complement the analysis and help figuring out the most effective ways of reducing churn. \n",
    "\n",
    ">I recommend replicating this analysis on a larger dataset and using the full potential of Spark and the IBM Cloud cluster to improve the performance of our model through GridSearch testing on different classifiers with a more extensive combination of hyper-parameters tuning.   "
   ]
  },
  {
   "cell_type": "markdown",
   "metadata": {},
   "source": [
    "<a id='reference'></a>\n",
    "# References\n",
    "\n",
    "* [Udacity Data Science ND: SparkCourse](https://classroom.udacity.com/nanodegrees/nd025/parts/3e1c3447-39e1-476e-a5f3-8822fa52f9a3/modules/78172901-c80c-4d14-9640-bf10d509f0b9/lessons/ddbf749e-6536-4081-bf9f-9c20e59aee8c/concepts/373ea389-9540-42dc-916d-fcaa63359d53)\n",
    "* [SparkMLlib Documentation](https://spark.apache.org/docs/latest/ml-tuning.html)\n",
    "* [Random Forest Classifier with Apache Spark](https://medium.com/rahasak/random-forest-classifier-with-apache-spark-c63b4a23a7cc)\n",
    "* [The internals of Spark SQL](https://jaceklaskowski.gitbooks.io/mastering-spark-sql/spark-sql.html)\n",
    "* [Tuning Random Forest algorithm](https://grzegorzgajda.gitbooks.io/spark-examples/content/classification/rf-tuning.html)\n",
    "* [RANDOM FOREST WITH PYTHON AND SPARK ML](https://www.silect.is/blog/2019/4/2/random-forest-in-spark-ml)\n",
    "* [Learning Apache Spark with Python](https://runawayhorse001.github.io/LearningApacheSpark/classification.html#gradient-boosted-tree-classification)\n",
    "* [Spark SQL Tutorial](https://www.tutorialspoint.com/spark_sql/)\n",
    "* [Machine Learning with PySpark and MLlib](https://towardsdatascience.com/machine-learning-with-pyspark-and-mllib-solving-a-binary-classification-problem-96396065d2aa)"
   ]
  },
  {
   "cell_type": "code",
   "execution_count": null,
   "metadata": {},
   "outputs": [],
   "source": []
  }
 ],
 "metadata": {
  "kernelspec": {
   "display_name": "Python 3",
   "language": "python",
   "name": "python3"
  },
  "language_info": {
   "codemirror_mode": {
    "name": "ipython",
    "version": 3
   },
   "file_extension": ".py",
   "mimetype": "text/x-python",
   "name": "python",
   "nbconvert_exporter": "python",
   "pygments_lexer": "ipython3",
   "version": "3.6.7"
  }
 },
 "nbformat": 4,
 "nbformat_minor": 1
}
